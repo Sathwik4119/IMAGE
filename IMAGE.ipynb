{
 "cells": [
  {
   "cell_type": "markdown",
   "id": "5f91b659-ccf2-4f9e-9a27-3fec77323c56",
   "metadata": {},
   "source": [
    "### IMAGE"
   ]
  },
  {
   "cell_type": "markdown",
   "id": "113e42b6-7cab-4894-80d1-46dd4ed71bbc",
   "metadata": {},
   "source": [
    "An image is a visual depiction of a subject, such as a person, object, scene, or idea, created or captured through means like photography, drawing, painting, or digital tools. It can take various forms, including photographs, illustrations, artworks, or computer-generated visuals."
   ]
  },
  {
   "cell_type": "markdown",
   "id": "26fe4306-6525-4afe-8f15-d0f9774577c5",
   "metadata": {},
   "source": [
    " ### Operations Used"
   ]
  },
  {
   "cell_type": "markdown",
   "id": "4bd3f244-3488-44be-96d1-e933d4242c68",
   "metadata": {},
   "source": [
    "1.imread()\n",
    "\n",
    "2.imshow()\n",
    "\n",
    "3.imwrite()\n",
    "\n",
    "4.cv2.waitkey()\n",
    "\n",
    "5.destroyallwindows()"
   ]
  },
  {
   "cell_type": "markdown",
   "id": "aee5c2c8-9ddc-457b-9193-4360fd7b6f62",
   "metadata": {},
   "source": [
    "## imread()"
   ]
  },
  {
   "cell_type": "markdown",
   "id": "bc311321-e993-4ee1-9a28-7f345ea5eb68",
   "metadata": {},
   "source": [
    "The cv2.imread() function in OpenCV is utilized to load an image from a file into a program. It outputs the image as a multi-dimensional NumPy array, with each element representing the pixel values.h"
   ]
  },
  {
   "cell_type": "code",
   "execution_count": 11,
   "id": "f075074c-18a7-4335-922e-6c0ea2890e98",
   "metadata": {},
   "outputs": [],
   "source": [
    "import cv2\n",
    "image = cv2.imread('image_path.jpg') "
   ]
  },
  {
   "cell_type": "markdown",
   "id": "3c3d85ef-adb3-42cc-92c6-4cea6f0da2ab",
   "metadata": {},
   "source": [
    "### imshow()"
   ]
  },
  {
   "cell_type": "markdown",
   "id": "be314d66-a904-4bda-b538-1718d40dcd73",
   "metadata": {},
   "source": [
    "The cv2.imshow() function in OpenCv is utilized to display the image and Opens and shows the specified image. It remains open until a key is pressed "
   ]
  },
  {
   "cell_type": "code",
   "execution_count": null,
   "id": "722a9f80-7d5b-47f2-93d4-35259691ab42",
   "metadata": {},
   "outputs": [],
   "source": [
    "cv2.imshow('Image Window', image)  # Display the image in a window\n",
    "cv2.waitKey(0)  # Wait indefinitely for a key press\n",
    "cv2.destroyAllWindows()  # Close all windows"
   ]
  },
  {
   "cell_type": "markdown",
   "id": "5f7d9ed1-d472-429e-a400-cac37b90bc55",
   "metadata": {},
   "source": [
    "## imwrite()"
   ]
  },
  {
   "cell_type": "markdown",
   "id": "029fb409-e206-49ea-9666-bcd8354e52f8",
   "metadata": {},
   "source": [
    "The cv2.imwrite() function in OpenCV is used to save an image to a file. It writes the image data, represented as a NumPy array, to the specified file path in the desired format."
   ]
  },
  {
   "cell_type": "code",
   "execution_count": null,
   "id": "978b9e11-2459-490c-af27-f260ba247bf8",
   "metadata": {},
   "outputs": [],
   "source": [
    "cv2.imwrite('output_image.jpg', image)  # Save the image to a file"
   ]
  },
  {
   "cell_type": "markdown",
   "id": "1a7108af-e2fc-4d87-be45-dbbf7eb82137",
   "metadata": {},
   "source": [
    "### cv2.waitkey()"
   ]
  },
  {
   "cell_type": "markdown",
   "id": "de8c6edc-426a-4004-b865-132cdfd5a21a",
   "metadata": {},
   "source": [
    "The cv2.waitKey() function in OpenCV is used to pause the execution of a program and wait for a key press. It's essential when displaying images or videos, as it allows the user to view content in an OpenCV window before continuing the program."
   ]
  },
  {
   "cell_type": "code",
   "execution_count": null,
   "id": "acc35b71-bb7c-4ed1-9911-7f99d8577137",
   "metadata": {},
   "outputs": [],
   "source": [
    "cv2.waitKey(time)#Time in milliseconds to wait for a key press.\n"
   ]
  },
  {
   "cell_type": "markdown",
   "id": "63e0d2b9-72d3-493d-9049-17e8047908d6",
   "metadata": {},
   "source": [
    "### cv2.destroyallwindows"
   ]
  },
  {
   "cell_type": "markdown",
   "id": "80d3bda2-d4ff-4f41-95dd-02827d8fd9b7",
   "metadata": {},
   "source": [
    "The cv2.destroyAllWindows() function in OpenCV is used to close all OpenCV windows that were opened using cv2.imshow(). This is particularly useful for ensuring that no unnecessary windows remain open after the program finishes or when you need to clean up before continuing."
   ]
  },
  {
   "cell_type": "code",
   "execution_count": null,
   "id": "4ca73762-3a37-4ad8-9c08-c9ffc142cf6c",
   "metadata": {},
   "outputs": [],
   "source": [
    "cv2.destroyAllWindows()\n"
   ]
  }
 ],
 "metadata": {
  "kernelspec": {
   "display_name": "Python 3 (ipykernel)",
   "language": "python",
   "name": "python3"
  },
  "language_info": {
   "codemirror_mode": {
    "name": "ipython",
    "version": 3
   },
   "file_extension": ".py",
   "mimetype": "text/x-python",
   "name": "python",
   "nbconvert_exporter": "python",
   "pygments_lexer": "ipython3",
   "version": "3.12.4"
  }
 },
 "nbformat": 4,
 "nbformat_minor": 5
}
