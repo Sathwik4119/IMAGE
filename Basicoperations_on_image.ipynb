{
 "cells": [
  {
   "cell_type": "code",
   "execution_count": 1,
   "id": "cf4fd666-b8c7-4a64-9da8-1bc726a50ba6",
   "metadata": {},
   "outputs": [
    {
     "name": "stdout",
     "output_type": "stream",
     "text": [
      "Collecting opencv-python\n",
      "  Using cached opencv_python-4.10.0.84-cp37-abi3-win_amd64.whl.metadata (20 kB)\n",
      "Requirement already satisfied: numpy>=1.21.2 in c:\\users\\saika\\anaconda3\\envs\\machinelearning\\lib\\site-packages (from opencv-python) (1.26.4)\n",
      "Using cached opencv_python-4.10.0.84-cp37-abi3-win_amd64.whl (38.8 MB)\n",
      "Installing collected packages: opencv-python\n",
      "Successfully installed opencv-python-4.10.0.84\n"
     ]
    }
   ],
   "source": [
    "! pip install opencv-python"
   ]
  },
  {
   "cell_type": "code",
   "execution_count": 2,
   "id": "c3dd33fb-cd71-4dd4-806a-a6d724f3fd34",
   "metadata": {},
   "outputs": [],
   "source": [
    "import cv2\n",
    "import numpy as np"
   ]
  },
  {
   "cell_type": "markdown",
   "id": "5f7d6c7c-cecb-4459-b30a-dd418c416cc0",
   "metadata": {},
   "source": [
    "# Image creation"
   ]
  },
  {
   "cell_type": "code",
   "execution_count": null,
   "id": "9fd1df26-552d-4c06-905c-d109a9554378",
   "metadata": {},
   "outputs": [],
   "source": [
    "# Create a white image of size 500x500 pixels\n",
    "# np.full creates an array filled with a constant value, here 255 for white\n",
    "white_img = np.full((500, 500), 255, dtype=np.uint8)\n",
    "\n",
    "# Create a black image of size 500x500 pixels\n",
    "# np.zeros creates an array filled with zeros, representing black in grayscale\n",
    "black_img = np.zeros((500, 500), dtype=np.uint8)\n",
    "\n",
    "# Create an image of size 400x400 pixels filled with a shade of gray\n",
    "# The value 200 creates a mid-tone gray (closer to white than black)\n",
    "shades_img = np.full((400, 400), 200, dtype=np.uint8)\n"
   ]
  },
  {
   "cell_type": "code",
   "execution_count": null,
   "id": "3d9b1f18-5483-4923-b997-ff4416a988ad",
   "metadata": {},
   "outputs": [],
   "source": [
    "# Display the white image in a window named \"white\"\n",
    "cv2.imshow(\"white\", white_img)\n",
    "\n",
    "# Display the black image in a window named \"black\"\n",
    "cv2.imshow(\"black\", black_img)\n",
    "\n",
    "# Display the gray image in a window named \"grey\"\n",
    "cv2.imshow(\"grey\", shades_img)\n",
    "\n",
    "# Wait for a key press indefinitely\n",
    "# The argument 0 indicates no timeout, so the program waits until any key is pressed\n",
    "cv2.waitKey(0)\n",
    "\n",
    "# Close all OpenCV windows\n",
    "cv2.destroyAllWindows()\n"
   ]
  },
  {
   "cell_type": "markdown",
   "id": "61d4bff5-1338-4c62-8ce3-259c7b912ad5",
   "metadata": {},
   "source": [
    "### color image"
   ]
  },
  {
   "cell_type": "markdown",
   "id": "2e6373b9-dbc2-480c-b69e-997ce9d552a9",
   "metadata": {},
   "source": [
    "### Red Image"
   ]
  },
  {
   "cell_type": "code",
   "execution_count": null,
   "id": "643e1499-f1c5-4eb5-9403-11f7297c2b78",
   "metadata": {},
   "outputs": [],
   "source": [
    "# Create a 500x500 pixel array filled with zeros for the blue channel\n",
    "# This represents no blue intensity in the image\n",
    "b = np.zeros((500, 500), dtype=np.uint8)\n",
    "\n",
    "# Create a 500x500 pixel array filled with zeros for the green channel\n",
    "# This represents no green intensity in the image\n",
    "g = np.zeros((500, 500), dtype=np.uint8)\n",
    "\n",
    "# Create a 500x500 pixel array filled with 255 for the red channel\n",
    "# This represents maximum red intensity in the image\n",
    "r = np.full((500, 500), 255, dtype=np.uint8)\n"
   ]
  },
  {
   "cell_type": "code",
   "execution_count": null,
   "id": "3dcec52f-e3eb-4585-ba39-05e80b2f0839",
   "metadata": {},
   "outputs": [],
   "source": [
    "red_img= cv2.merge([b,g,r])\n",
    "red_img"
   ]
  },
  {
   "cell_type": "markdown",
   "id": "ed3146e2-5e5e-4c5e-9165-0cf321daa69a",
   "metadata": {},
   "source": [
    "## Blue image"
   ]
  },
  {
   "cell_type": "code",
   "execution_count": null,
   "id": "6d2f57ab-e832-4679-aa79-ab0499fbafc7",
   "metadata": {},
   "outputs": [],
   "source": [
    "# Create a 500x500 pixel array filled with 255 for the blue channel\n",
    "# This represents maximum blue intensity in the image\n",
    "b = np.full((500, 500), 255, dtype=np.uint8)\n",
    "\n",
    "# Create a 500x500 pixel array filled with zeros for the green channel\n",
    "# This represents no green intensity in the image\n",
    "g = np.zeros((500, 500), dtype=np.uint8)\n",
    "\n",
    "# Create a 500x500 pixel array filled with zeros for the red channel\n",
    "# This represents no red intensity in the image\n",
    "r = np.zeros((500, 500), dtype=np.uint8)\n"
   ]
  },
  {
   "cell_type": "code",
   "execution_count": null,
   "id": "a0e7c453-cd45-4404-9c3a-1af2f3aec1b1",
   "metadata": {},
   "outputs": [],
   "source": [
    "blue_img = cv2.merge([b,g,r])\n",
    "blue_img"
   ]
  },
  {
   "cell_type": "markdown",
   "id": "91a759e9-c37a-4db7-9e95-42b7b5ddb8c9",
   "metadata": {},
   "source": [
    "### Green Image`"
   ]
  },
  {
   "cell_type": "code",
   "execution_count": null,
   "id": "725352ea-1e5d-4677-afee-6ffd46244d0d",
   "metadata": {},
   "outputs": [],
   "source": [
    "# Create a 500x500 pixel array filled with zeros for the blue channel\n",
    "# This represents no blue intensity in the image\n",
    "b = np.zeros((500, 500), dtype=np.uint8)\n",
    "\n",
    "# Create a 500x500 pixel array filled with 255 for the green channel\n",
    "# This represents maximum green intensity in the image\n",
    "g = np.full((500, 500), 255, dtype=np.uint8)\n",
    "\n",
    "# Create a 500x500 pixel array filled with zeros for the red channel\n",
    "# This represents no red intensity in the image\n",
    "r = np.zeros((500, 500), dtype=np.uint8)\n"
   ]
  },
  {
   "cell_type": "code",
   "execution_count": null,
   "id": "b49278ae-fd67-47b3-bf48-417effc6e369",
   "metadata": {},
   "outputs": [],
   "source": [
    "green_img=cv2.merge([b,g,r])\n",
    "green_img"
   ]
  },
  {
   "cell_type": "code",
   "execution_count": null,
   "id": "b6b70266-4c3e-476a-9188-0b9e130cc990",
   "metadata": {},
   "outputs": [],
   "source": [
    "# To show all images\n",
    "cv2.imshow(\"r\",red_img)\n",
    "cv2.imshow(\"b\",blue_img)\n",
    "cv2.imshow(\"g\",green_img)\n",
    "cv2.waitKey(0)\n",
    "cv2.destroyAllWindows()"
   ]
  },
  {
   "cell_type": "markdown",
   "id": "4246829a-3299-4143-888c-5e2a49c948ec",
   "metadata": {},
   "source": [
    "### using cv2.write for saving the image\n"
   ]
  },
  {
   "cell_type": "code",
   "execution_count": null,
   "id": "afcff49c-eb82-4a78-b49f-db4511652e1f",
   "metadata": {},
   "outputs": [],
   "source": [
    "# Combine the blue, green, and red channels into a single color image\n",
    "# cv2.merge merges individual color channels into a BGR image\n",
    "color_image = cv2.merge((b, g, r))\n",
    "\n",
    "# Save the image to a file using cv2.imwrite()\n",
    "# The first argument is the file path or name, and the second argument is the image data\n",
    "# This saves the merged color image as a file named 'output_image.png'\n",
    "cv2.imwrite(\"output_image.png\", color_image)\n",
    "\n",
    "# Note: Ensure the directory has write permissions if specifying a custom path\n",
    "# For example, \"C:/path_to_save/output_image.png\" can be used for Windows paths\n"
   ]
  },
  {
   "cell_type": "markdown",
   "id": "e7e6e38a-bcfd-433f-b6b0-6ed30bde129c",
   "metadata": {},
   "source": [
    "### dividing the colours of the image"
   ]
  },
  {
   "cell_type": "code",
   "execution_count": null,
   "id": "c5af63b8-8a11-4e3f-9e14-2b6fcbacfc68",
   "metadata": {},
   "outputs": [],
   "source": [
    "# Read the image from the specified file path\n",
    "img = cv2.imread(r\"C:\\Users\\saika\\.cache\\kagglehub\\datasets\\rahmasleam\\flowers-dataset\\versions\\1\\flower_photos\\sunflowers\\193874852_fb633d8d00_n.jpg\")\n",
    "\n",
    "# Resize the image to 500x500 pixels\n",
    "img = cv2.resize(img, (500, 500))\n",
    "\n",
    "# Flatten the image to convert the 2D image array into a 1D array of pixel values\n",
    "img = img.flatten()\n"
   ]
  }
 ],
 "metadata": {
  "kernelspec": {
   "display_name": "Python 3 (ipykernel)",
   "language": "python",
   "name": "python3"
  },
  "language_info": {
   "codemirror_mode": {
    "name": "ipython",
    "version": 3
   },
   "file_extension": ".py",
   "mimetype": "text/x-python",
   "name": "python",
   "nbconvert_exporter": "python",
   "pygments_lexer": "ipython3",
   "version": "3.11.11"
  }
 },
 "nbformat": 4,
 "nbformat_minor": 5
}
