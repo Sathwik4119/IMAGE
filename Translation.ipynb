{
 "cells": [
  {
   "cell_type": "markdown",
   "id": "af8f07de-9b4b-4430-a7ca-92b468b9625e",
   "metadata": {},
   "source": [
    "### Translation & Affine "
   ]
  },
  {
   "cell_type": "code",
   "execution_count": null,
   "id": "7b76d4b3-64f0-459c-a2f2-71168755f37f",
   "metadata": {},
   "outputs": [],
   "source": [
    "import pandas as pd\n",
    "import numpy as np\n",
    "import os\n",
    "import cv2"
   ]
  },
  {
   "cell_type": "markdown",
   "id": "2405bce3-b42b-48c4-a45e-6d30221f2c50",
   "metadata": {},
   "source": [
    "### Image from left and upside"
   ]
  },
  {
   "cell_type": "code",
   "execution_count": null,
   "id": "90d3f49d-ddf3-42ed-993e-53c03fe2fb4b",
   "metadata": {},
   "outputs": [],
   "source": [
    "# Load the image\n",
    "img = cv2.imread(\"image_path.jpg\")\n",
    "if img is None:\n",
    "    raise ValueError(\"Error: Image not loaded. Check the file path.\")\n",
    "\n",
    "# Print image shape\n",
    "print(\"Image shape:\", img.shape)\n",
    "\n",
    "# Translation parameters\n",
    "tx, ty = 25, 20\n",
    "\n",
    "# Translation matrix\n",
    "translation_matrix = np.array([[1, 0, tx], [0, 1, ty]], dtype=np.float32)\n",
    "\n",
    "# Apply affine transformation\n",
    "t_img = cv2.warpAffine(img, translation_matrix, (640, 480))\n",
    "\n",
    "# Display the transformed image shape\n",
    "print(\"Transformed image shape:\", t_img.shape)\n"
   ]
  },
  {
   "cell_type": "code",
   "execution_count": null,
   "id": "1b2b98dd-c6b2-4449-a798-5888bb08d140",
   "metadata": {},
   "outputs": [],
   "source": [
    "\n",
    "# Display the original image\n",
    "cv2.imshow(\"Original Image\", img)\n",
    "\n",
    "# Display the transformed image\n",
    "cv2.imshow(\"Transformed Image\", t_img)\n",
    "\n",
    "# Wait for a key press\n",
    "cv2.waitKey(0)  # Wait indefinitely until a key is pressed\n",
    "\n",
    "# Destroy all OpenCV windows\n",
    "cv2.destroyAllWindows()\n"
   ]
  },
  {
   "cell_type": "markdown",
   "id": "a3fdf886-bafb-4d62-9fce-918345e9777d",
   "metadata": {},
   "source": [
    "### Transform image from right side and down side ,adding border"
   ]
  },
  {
   "cell_type": "code",
   "execution_count": null,
   "id": "eeb6029d-5c6a-42bc-834a-2bd00ffb640c",
   "metadata": {},
   "outputs": [],
   "source": [
    "# Translation parameters (move left and up)\n",
    "tx, ty = -25, -20\n",
    "\n",
    "# Define translation matrix\n",
    "translation_matrix = np.array([[1, 0, tx], [0, 1, ty]], dtype=np.float32)\n",
    "\n",
    "# Apply warp with constant red border\n",
    "t_img_constant = cv2.warpAffine(img, translation_matrix, (img.shape[1], img.shape[0]),\n",
    "                                borderMode=cv2.BORDER_CONSTANT, borderValue=(0, 0, 255))\n",
    "\n",
    "# Apply warp with reflective border\n",
    "t_img_reflect = cv2.warpAffine(img, translation_matrix, (img.shape[1], img.shape[0]),\n",
    "                               borderMode=cv2.BORDER_REFLECT)\n",
    "\n",
    "# Display both images for comparison\n",
    "cv2.imshow(\"Constant Border (Red)\", t_img_constant)\n",
    "cv2.imshow(\"Reflective Border\", t_img_reflect)\n",
    "\n",
    "# Wait for a key press and close all windows\n",
    "cv2.waitKey(0)\n",
    "cv2.destroyAllWindows()\n"
   ]
  },
  {
   "cell_type": "markdown",
   "id": "d5279fc1-23f5-49fb-a2ef-04fc09321761",
   "metadata": {},
   "source": [
    "### Rotation"
   ]
  },
  {
   "cell_type": "code",
   "execution_count": null,
   "id": "16dd1a6e-44dd-4ccc-b0e2-6fe902050cc7",
   "metadata": {},
   "outputs": [],
   "source": [
    "\n",
    "# Define rotation parameters\n",
    "center = (img.shape[1] // 2, img.shape[0] // 2)  # Rotate around the image center\n",
    "angle = 90  # Rotate 90 degrees clockwise\n",
    "scale = 1  # No scaling\n",
    "\n",
    "# Get the rotation matrix\n",
    "r_m = cv2.getRotationMatrix2D(center, angle, scale)\n",
    "\n",
    "# Rotate the image\n",
    "r_img1 = cv2.warpAffine(img, r_m, (img.shape[1], img.shape[0]))\n",
    "\n",
    "# Display the original and rotated images\n",
    "cv2.imshow(\"Original Image\", img)\n",
    "cv2.imshow(\"Rotated Image\", r_img1)\n",
    "\n",
    "# Wait for a key press and close all windows\n",
    "cv2.waitKey(0)\n",
    "cv2.destroyAllWindows()\n"
   ]
  },
  {
   "cell_type": "markdown",
   "id": "cf28f726-81a5-4fe7-a392-b363af6651a0",
   "metadata": {},
   "source": [
    "### Using Rotate method directly"
   ]
  },
  {
   "cell_type": "code",
   "execution_count": null,
   "id": "8b759ced-67d5-4f57-ae84-04eef603e3e7",
   "metadata": {},
   "outputs": [],
   "source": [
    "# Rotate the image\n",
    "img4 = cv2.rotate(img, cv2.ROTATE_180)  # Rotate 180 degrees\n",
    "img5 = cv2.rotate(img, cv2.ROTATE_90_CLOCKWISE)  # Rotate 90 degrees clockwise\n",
    "img6 = cv2.rotate(img, cv2.ROTATE_90_COUNTERCLOCKWISE)  # Rotate 90 degrees counterclockwise\n",
    "\n",
    "# Display the original and rotated images\n",
    "cv2.imshow(\"Original Image\", img)\n",
    "cv2.imshow(\"Rotated 180 Degrees\", img4)\n",
    "cv2.imshow(\"Rotated 90 Degrees Clockwise\", img5)\n",
    "cv2.imshow(\"Rotated 90 Degrees Counterclockwise\", img6)\n",
    "\n",
    "# Wait for a key press and close all windows\n",
    "cv2.waitKey(0)\n",
    "cv2.destroyAllWindows()\n"
   ]
  },
  {
   "cell_type": "markdown",
   "id": "36f33d58-8cd6-4e5d-965d-04c7b5c8ec6f",
   "metadata": {},
   "source": [
    "### Scaling (Zoom in or Zoom out)"
   ]
  },
  {
   "cell_type": "code",
   "execution_count": null,
   "id": "a2b4edb3-a00b-4b2b-81e8-a4b960bb05b0",
   "metadata": {},
   "outputs": [],
   "source": [
    "# Scaling and translation parameters\n",
    "sx = 2  # Scaling factor in x-direction\n",
    "sy = 2  # Scaling factor in y-direction\n",
    "tx = 5  # Translation in x-direction\n",
    "ty = 5  # Translation in y-direction\n",
    "\n",
    "# Define the scaling and translation matrix\n",
    "sc_m = np.array([[sx, 0, tx], [0, sy, ty]], dtype=np.float32)\n",
    "\n",
    "# Calculate new image dimensions after scaling\n",
    "height, width = img.shape[:2]\n",
    "new_width = int(sx * width)\n",
    "new_height = int(sy * height)\n",
    "\n",
    "# Apply affine transformation for scaling and translation\n",
    "scal_img = cv2.warpAffine(img, sc_m, (new_width, new_height))\n",
    "\n",
    "# Display the original and transformed images\n",
    "cv2.imshow(\"Original Image\", img)\n",
    "cv2.imshow(\"Scaled and Translated Image\", scal_img)\n",
    "\n",
    "# Wait for a key press and close all windows\n",
    "cv2.waitKey(0)\n",
    "cv2.destroyAllWindows()\n"
   ]
  },
  {
   "cell_type": "markdown",
   "id": "67f92b9b-11f6-4487-865e-50dd36ade4f3",
   "metadata": {},
   "source": [
    "## Using Resize"
   ]
  },
  {
   "cell_type": "code",
   "execution_count": null,
   "id": "4c1f5661-0c00-4c71-974f-41541b1f63ad",
   "metadata": {},
   "outputs": [],
   "source": [
    "# Resize the original image to 500x500 and the scaled image to 50x50 for display\n",
    "cv2.imshow(\"Resized Original Image\", cv2.resize(img, (500, 500)))\n",
    "cv2.imshow(\"Resized Scaled Image\", cv2.resize(scal_img, (50, 50)))\n",
    "\n",
    "# Wait for a key press and close all windows\n",
    "cv2.waitKey(0)\n",
    "cv2.destroyAllWindows()\n"
   ]
  },
  {
   "cell_type": "markdown",
   "id": "f3d1d29e-62d5-4502-b9fd-82b445645718",
   "metadata": {},
   "source": [
    "### Shearing"
   ]
  },
  {
   "cell_type": "code",
   "execution_count": null,
   "id": "5e35ff5b-5aa5-4891-a267-550f0b43212e",
   "metadata": {},
   "outputs": [],
   "source": [
    "# Define shearing parameters\n",
    "shx = 5  # Horizontal shear factor\n",
    "shy = 4  # Vertical shear factor\n",
    "tx = 0   # Translation in x direction (no translation)\n",
    "ty = 0   # Translation in y direction (no translation)\n",
    "\n",
    "# Define the shearing matrix\n",
    "sh_m = np.array([[1, shx, tx], [shy, 1, ty]], dtype=np.float32)\n",
    "\n",
    "# Calculate new image dimensions based on the shearing factors\n",
    "height, width = img.shape[:2]\n",
    "new_width = int(width + shy * height)  # Adjust width based on vertical shear\n",
    "new_height = int(height + shx * width)  # Adjust height based on horizontal shear\n",
    "\n",
    "# Apply the shearing transformation\n",
    "scal_img = cv2.warpAffine(img, sh_m, (new_width, new_height))\n",
    "\n",
    "# Display the original and sheared images\n",
    "cv2.imshow(\"Original Image\", img)\n",
    "cv2.imshow(\"Sheared Image\", scal_img)\n",
    "\n",
    "# Wait for a key press and close all windows\n",
    "cv2.waitKey(0)\n",
    "cv2.destroyAllWindows()\n"
   ]
  },
  {
   "cell_type": "markdown",
   "id": "06860012-b514-4c78-92b5-4409f752940f",
   "metadata": {},
   "source": [
    "### Cropping"
   ]
  },
  {
   "cell_type": "code",
   "execution_count": null,
   "id": "36d43f21-a5a1-4f1a-923a-d4e1c31d81de",
   "metadata": {},
   "outputs": [],
   "source": []
  }
 ],
 "metadata": {
  "kernelspec": {
   "display_name": "Python 3 (ipykernel)",
   "language": "python",
   "name": "python3"
  },
  "language_info": {
   "codemirror_mode": {
    "name": "ipython",
    "version": 3
   },
   "file_extension": ".py",
   "mimetype": "text/x-python",
   "name": "python",
   "nbconvert_exporter": "python",
   "pygments_lexer": "ipython3",
   "version": "3.11.11"
  }
 },
 "nbformat": 4,
 "nbformat_minor": 5
}
